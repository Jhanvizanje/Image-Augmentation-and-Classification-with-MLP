{
 "cells": [
  {
   "cell_type": "markdown",
   "id": "7af6b4ef",
   "metadata": {},
   "source": [
    "# ASSIGNMENT 1\n",
    "# Allan Robey - 22111007\n",
    "# Kush Shah - 22111033"
   ]
  },
  {
   "cell_type": "code",
   "execution_count": 1,
   "id": "c94aa16c",
   "metadata": {},
   "outputs": [],
   "source": [
    "import pickle\n",
    "import pandas as pd\n",
    "import numpy as np\n",
    "import matplotlib.pyplot as plt\n",
    "import os\n",
    "import random\n",
    "from PIL import Image\n",
    "import cv2"
   ]
  },
  {
   "cell_type": "markdown",
   "id": "c556fcab",
   "metadata": {},
   "source": [
    "## QUESTION 1: Loading the data set"
   ]
  },
  {
   "cell_type": "code",
   "execution_count": 13,
   "id": "2dbe9c47",
   "metadata": {},
   "outputs": [],
   "source": [
    "def unpickle(file):\n",
    "    with open(file, 'rb') as fo:\n",
    "        dict = pickle.load(fo, encoding='bytes')\n",
    "    return dict\n",
    "\n",
    "for i in range(5):\n",
    "    globals()[f'dict{i+1}'] =  unpickle('data_batch_'+str(i+1))\n",
    "\n",
    "test_batch_dict = unpickle('test_batch')\n"
   ]
  },
  {
   "cell_type": "markdown",
   "id": "dac73fc9",
   "metadata": {},
   "source": [
    "# Creating an image"
   ]
  },
  {
   "cell_type": "code",
   "execution_count": 17,
   "id": "0c3de1c6",
   "metadata": {},
   "outputs": [],
   "source": [
    "# train_data consists of all 50,000 images.\n",
    "train_data = []\n",
    "for i in range(1,6,1):\n",
    "    for j in range(10000):\n",
    "        train_data.append(eval(\"dict\"+str(i))[b'data'][j])"
   ]
  },
  {
   "cell_type": "code",
   "execution_count": 19,
   "id": "dc4ea926",
   "metadata": {},
   "outputs": [],
   "source": [
    "# train_data_labels consists of labels of  50,000 images.\n",
    "train_data_labels = []\n",
    "for i in range(1,6,1):\n",
    "    for j in range(10000):\n",
    "        train_data_labels.append(eval(\"dict\"+str(i))[b'labels'][j])"
   ]
  },
  {
   "cell_type": "code",
   "execution_count": 20,
   "id": "4ed09002",
   "metadata": {},
   "outputs": [],
   "source": [
    "# test_data consists of 10,000 images and test_data_labels consists of the corresponding labels\n",
    "test_data = []\n",
    "test_data_labels = []\n",
    "for i in range(10000):\n",
    "        test_data.append(test_batch_dict[b'data'][i])\n",
    "for i in range(10000):\n",
    "        test_data_labels.append(test_batch_dict[b'labels'][i])"
   ]
  },
  {
   "cell_type": "code",
   "execution_count": 15,
   "id": "638db0e5",
   "metadata": {},
   "outputs": [],
   "source": [
    "# function to create an image\n",
    "\n",
    "def image_formation(image_array):\n",
    "    np_image_array = np.array(image_array)\n",
    "    image = image_array.reshape(3,32,32).transpose(1,2,0)\n",
    "    return image\n"
   ]
  },
  {
   "cell_type": "code",
   "execution_count": 44,
   "id": "d4eb2e74",
   "metadata": {},
   "outputs": [
    {
     "data": {
      "text/plain": [
       "<function matplotlib.pyplot.show(close=None, block=None)>"
      ]
     },
     "execution_count": 44,
     "metadata": {},
     "output_type": "execute_result"
    },
    {
     "data": {
      "image/png": "[encoded data removed]",
      "text/plain": [
       "<Figure size 432x288 with 1 Axes>"
      ]
     },
     "metadata": {
      "needs_background": "light"
     },
     "output_type": "display_data"
    }
   ],
   "source": [
    "#showing the image 0\n",
    "image = image_formation(train_data[0])\n",
    "plt.imshow(image)\n",
    "plt.axis('off')\n",
    "plt.show"
   ]
  },
  {
   "cell_type": "code",
   "execution_count": 21,
   "id": "3a57d255",
   "metadata": {},
   "outputs": [
    {
     "data": {
      "text/plain": [
       "50000"
      ]
     },
     "execution_count": 21,
     "metadata": {},
     "output_type": "execute_result"
    }
   ],
   "source": [
    "len(train_data)"
   ]
  },
  {
   "cell_type": "code",
   "execution_count": 22,
   "id": "bfd3865e",
   "metadata": {},
   "outputs": [
    {
     "data": {
      "text/plain": [
       "50000"
      ]
     },
     "execution_count": 22,
     "metadata": {},
     "output_type": "execute_result"
    }
   ],
   "source": [
    "len(train_data_labels)"
   ]
  },
  {
   "cell_type": "code",
   "execution_count": 23,
   "id": "34ffad42",
   "metadata": {},
   "outputs": [
    {
     "data": {
      "text/plain": [
       "10000"
      ]
     },
     "execution_count": 23,
     "metadata": {},
     "output_type": "execute_result"
    }
   ],
   "source": [
    "len(test_data)"
   ]
  },
  {
   "cell_type": "code",
   "execution_count": 24,
   "id": "23f5f0e4",
   "metadata": {},
   "outputs": [
    {
     "data": {
      "text/plain": [
       "10000"
      ]
     },
     "execution_count": 24,
     "metadata": {},
     "output_type": "execute_result"
    }
   ],
   "source": [
    "len(test_data_labels)"
   ]
  },
  {
   "cell_type": "markdown",
   "id": "8c040fb7",
   "metadata": {},
   "source": [
    "## creating pickle file for unaugmented data set"
   ]
  },
  {
   "cell_type": "code",
   "execution_count": 25,
   "id": "072eab2e",
   "metadata": {},
   "outputs": [],
   "source": [
    "# making train & test data pickle file to maintain reusability \n",
    "with open('train_data.pkl', 'wb') as file:\n",
    "      \n",
    "    \n",
    "    pickle.dump(train_data, file)\n",
    "    \n",
    "with open('test_data.pkl', 'wb') as file:\n",
    "      \n",
    "    \n",
    "    pickle.dump(test_data, file)"
   ]
  },
  {
   "cell_type": "code",
   "execution_count": 26,
   "id": "bc5cd708",
   "metadata": {},
   "outputs": [],
   "source": [
    "# making train & test data lables pickle file to maintain reusability\n",
    "with open('train_data_labels.pkl', 'wb') as file:\n",
    "      \n",
    "    \n",
    "    pickle.dump(train_data_labels, file)\n",
    "    \n",
    "with open('test_data_labels.pkl', 'wb') as file:\n",
    "      \n",
    "    \n",
    "    pickle.dump(test_data_labels, file)\n",
    "    \n"
   ]
  },
  {
   "cell_type": "markdown",
   "id": "4bb724b2",
   "metadata": {},
   "source": [
    "# QUESTION 2:Implement Image Transformation Methods"
   ]
  },
  {
   "cell_type": "markdown",
   "id": "da3e6acf",
   "metadata": {},
   "source": [
    "# ENHANCEMENT OF IMAGE"
   ]
  },
  {
   "cell_type": "code",
   "execution_count": 27,
   "id": "6482481a",
   "metadata": {},
   "outputs": [],
   "source": [
    "# method to enhance the image \n",
    "def image_enhancement(image_array):\n",
    "    np_image_array = np.array(image_array)\n",
    "    #calculating max, min among all threee channels i.e Red, Green,Blue \n",
    "    red_min = np.min(np_image_array[0:1024])\n",
    "    red_max = np.max(np_image_array[0:1024])\n",
    "    green_min = np.min(np_image_array[1024:2048])\n",
    "    green_max = np.max(np_image_array[1024:2048])\n",
    "    blue_min = np.min(np_image_array[2048:3072])\n",
    "    blue_max = np.max(np_image_array[2048:3072])\n",
    "    for i in range(1024):\n",
    "        np_image_array[i] = ((np_image_array[i] - red_min) / (red_max -red_min )) * 255\n",
    "    for j in range(1024,2048,1):\n",
    "        np_image_array[j] = ((np_image_array[j] - green_min) / (green_max -green_min )) * 255\n",
    "    for k in range(2048,3072,1):\n",
    "        np_image_array[k] = ((np_image_array[k] - blue_min) / (blue_max -blue_min )) * 255\n",
    "    image = np_image_array.reshape(3,32,32).transpose(1,2,0)\n",
    "    return image"
   ]
  },
  {
   "cell_type": "code",
   "execution_count": 34,
   "id": "2ae18af5",
   "metadata": {},
   "outputs": [
    {
     "data": {
      "text/plain": [
       "Text(0.5, 1.0, 'ENHANCED IMAGE')"
      ]
     },
     "execution_count": 34,
     "metadata": {},
     "output_type": "execute_result"
    },
    {
     "data": {
      "image/png": "[encoded data removed]",
      "text/plain": [
       "<Figure size 720x504 with 2 Axes>"
      ]
     },
     "metadata": {
      "needs_background": "light"
     },
     "output_type": "display_data"
    }
   ],
   "source": [
    "#randomly selecting the image & comparing enchanced and original image\n",
    "image_id = random.randint(0,50000)\n",
    "original_image = image_formation(train_data[image_id])\n",
    "enhanced_image = image_enhancement(train_data[image_id])\n",
    "fig = plt.figure(figsize=(10, 7))\n",
    "fig.add_subplot(1, 2, 1)\n",
    "  \n",
    "# showing image\n",
    "plt.imshow(original_image)\n",
    "plt.axis('off')\n",
    "plt.title(\"ORIGINAL IMAGE\")\n",
    "fig.add_subplot(1, 2, 2)\n",
    "  \n",
    "# showing image\n",
    "plt.imshow(enhanced_image)\n",
    "plt.axis('off')\n",
    "plt.title(\"ENHANCED IMAGE\")"
   ]
  },
  {
   "cell_type": "markdown",
   "id": "77652908",
   "metadata": {},
   "source": [
    "# POSTERIZATION OF IMAGE"
   ]
  },
  {
   "cell_type": "markdown",
   "id": "4630e677",
   "metadata": {},
   "source": [
    "Posterization of Image (A posterizing image is the one in which you reduce the number of\n",
    "colors in the image to provide a visual art). Follow the instructions below to posterize the\n",
    "image:\n",
    "• Select a desired minimum and maximum pixel value in the range of [0-255].\n",
    "• Now, for each pixel i in image x:\n",
    "i. Calculate the range r by subtracting selected minimum and maximum pixel value\n",
    "ii. Get a divider for the colors using divider =\n",
    "255\n",
    "r\n",
    "iii. Get the level of colors by i =\n",
    "i\n",
    "divider\n",
    "iv. Finally, apply the color palette on pixel by i = i + min\n",
    "• Make sure, the final image x should have the pixel values in the range of [0, 255]\n"
   ]
  },
  {
   "cell_type": "code",
   "execution_count": 35,
   "id": "5be2556b",
   "metadata": {},
   "outputs": [],
   "source": [
    "# method for posterization \n",
    "def image_posterization(image_array):\n",
    "    min1 = 7\n",
    "    max1 = 253\n",
    "    range1 = max1 - min1\n",
    "    divider = 255/range1\n",
    "    np_image_array = np.array(image_array)\n",
    "    for i in range(len(image_array)):\n",
    "        np_image_array[i] = np_image_array[i]/divider\n",
    "        x = np_image_array[i] + min1\n",
    "        if(x < 0):\n",
    "            np_image_array[i] = 0\n",
    "        elif x > 255:\n",
    "            np_image_array[i] = 255\n",
    "        else:\n",
    "            np_image_array[i] = x\n",
    "    image = np_image_array.reshape(3,32,32).transpose(1,2,0)\n",
    "    return image"
   ]
  },
  {
   "cell_type": "code",
   "execution_count": 36,
   "id": "f162539d",
   "metadata": {},
   "outputs": [
    {
     "data": {
      "text/plain": [
       "Text(0.5, 1.0, 'POSTERIZED IMAGE')"
      ]
     },
     "execution_count": 36,
     "metadata": {},
     "output_type": "execute_result"
    },
    {
     "data": {
      "image/png": "[encoded data removed]",
      "text/plain": [
       "<Figure size 720x504 with 2 Axes>"
      ]
     },
     "metadata": {
      "needs_background": "light"
     },
     "output_type": "display_data"
    }
   ],
   "source": [
    "#randomly selecting the image & comparing posterized and original image\n",
    "image_id = random.randint(0,50000)\n",
    "original_image = image_formation(train_data[image_id])\n",
    "posterized_image = image_posterization(train_data[image_id])\n",
    "fig = plt.figure(figsize=(10, 7))\n",
    "fig.add_subplot(1, 2, 1)\n",
    "  \n",
    "# showing image\n",
    "plt.imshow(original_image)\n",
    "plt.axis('off')\n",
    "plt.title(\"ORIGINAL IMAGE\")\n",
    "fig.add_subplot(1, 2, 2)\n",
    "  \n",
    "# showing image\n",
    "plt.imshow(posterized_image)\n",
    "plt.axis('off')\n",
    "plt.title(\"POSTERIZED IMAGE\")"
   ]
  },
  {
   "cell_type": "markdown",
   "id": "32d602f1",
   "metadata": {},
   "source": [
    "# ROTATATION OF IMAGE"
   ]
  },
  {
   "cell_type": "code",
   "execution_count": 37,
   "id": "9ffc07f7",
   "metadata": {},
   "outputs": [],
   "source": [
    "import math\n",
    "#method for rotating the image \n",
    "def image_rotate(image):\n",
    "    \n",
    "    image=image_formation(image)\n",
    "    #randomly selecting angle(from -180 to 180 degree) to rotate the image\n",
    "    angle=random.uniform(-180, 180)\n",
    "    # converting the degree into radians\n",
    "    angle = math.radians(angle)\n",
    "\n",
    "    rotated_image = np.uint8(np.zeros(image.shape))\n",
    "\n",
    "    rows = rotated_image.shape[0]\n",
    "    cols  = rotated_image.shape[1]\n",
    "\n",
    "    centre_x,centre_y = (cols//2, rows//2)\n",
    "\n",
    "    for i in range(rows):\n",
    "        for j in range(cols):\n",
    "            x= (i-centre_x)*math.cos(angle)+(j-centre_y)*math.sin(angle)\n",
    "            y= -(i-centre_x)*math.sin(angle)+(j-centre_y)*math.cos(angle)\n",
    "\n",
    "            x=round(x)+centre_x \n",
    "            y=round(y)+centre_y \n",
    "\n",
    "            if (x>=0 and y>=0 and x<image.shape[0] and  y<image.shape[1]):\n",
    "                rotated_image[i,j,:] = image[x,y,:]\n",
    "\n",
    "    return rotated_image\n"
   ]
  },
  {
   "cell_type": "code",
   "execution_count": 43,
   "id": "e3dfa012",
   "metadata": {},
   "outputs": [
    {
     "data": {
      "text/plain": [
       "Text(0.5, 1.0, 'ROTATED IMAGE')"
      ]
     },
     "execution_count": 43,
     "metadata": {},
     "output_type": "execute_result"
    },
    {
     "data": {
      "image/png": "[encoded data removed]",
      "text/plain": [
       "<Figure size 720x504 with 2 Axes>"
      ]
     },
     "metadata": {
      "needs_background": "light"
     },
     "output_type": "display_data"
    }
   ],
   "source": [
    "#randomly selecting the image & comparing rotated and original image\n",
    "image_id = random.randint(0,50000)\n",
    "original_image = image_formation(train_data[image_id])\n",
    "rotated_image = image_rotate(train_data[image_id])\n",
    "fig = plt.figure(figsize=(10, 7))\n",
    "fig.add_subplot(1, 2, 1)\n",
    "  \n",
    "# showing original image\n",
    "plt.imshow(original_image)\n",
    "plt.axis('off')\n",
    "plt.title(\"ORIGINAL IMAGE\")\n",
    "fig.add_subplot(1, 2, 2)\n",
    "  \n",
    "# showing rotated image\n",
    "plt.imshow(rotated_image)\n",
    "plt.axis('off')\n",
    "plt.title(\"ROTATED IMAGE\")"
   ]
  },
  {
   "cell_type": "markdown",
   "id": "8627680f",
   "metadata": {},
   "source": [
    "# CONTRAST AND HORIZONTAL FLIPPING OF IMAGE"
   ]
  },
  {
   "cell_type": "code",
   "execution_count": 48,
   "id": "a5a0b334",
   "metadata": {},
   "outputs": [],
   "source": [
    "import random  \n",
    "# method for contrasting & flipping the image  \n",
    "def image_contrast_horizontal_flip(image_array):\n",
    "    \n",
    "    alpha = random.uniform(0.5, 2.0)\n",
    "    np_image_array = np.array(image_array)\n",
    "    #contrast\n",
    "    for i in range(len(image_array)):\n",
    "        pixel = alpha * (np_image_array[i] - 128) + 128\n",
    "        if pixel < 0:\n",
    "            np_image_array[i] = 0\n",
    "        elif pixel > 255:\n",
    "            np_image_array[i] = 255\n",
    "        else:\n",
    "            np_image_array[i] = pixel\n",
    "    image = np_image_array.reshape(3,32,32).transpose(1,2,0)\n",
    "    \n",
    "    if random.randint(0,1) == 1:\n",
    "        \n",
    "        for i in range(image.shape[0]):\n",
    "            #flipped_image = np.fliplr(image)\n",
    "            flipped_image = image[:, ::-1, :]\n",
    "            flipped_image = np.uint8(flipped_image)\n",
    "    else:\n",
    "        flipped_image = image\n",
    "    return flipped_image\n",
    "\n"
   ]
  },
  {
   "cell_type": "code",
   "execution_count": 47,
   "id": "03f0bfd7",
   "metadata": {},
   "outputs": [
    {
     "data": {
      "text/plain": [
       "Text(0.5, 1.0, 'CONTRAST AND HORIZONTALLY FLIPPED IMAGE')"
      ]
     },
     "execution_count": 47,
     "metadata": {},
     "output_type": "execute_result"
    },
    {
     "data": {
      "image/png": "[encoded data removed]",
      "text/plain": [
       "<Figure size 720x504 with 2 Axes>"
      ]
     },
     "metadata": {
      "needs_background": "light"
     },
     "output_type": "display_data"
    }
   ],
   "source": [
    "#randomly selecting the image & comparing rotated and original image\n",
    "image_id = random.randint(0,50000)\n",
    "original_image = image_formation(train_data[image_id])\n",
    "contrast_image = image_contrast_horizontal_flip(train_data[image_id])\n",
    "fig = plt.figure(figsize=(10, 7))\n",
    "fig.add_subplot(1, 2, 1)\n",
    "  \n",
    "# showing original image\n",
    "plt.imshow(original_image)\n",
    "plt.axis('off')\n",
    "plt.title(\"ORIGINAL IMAGE\")\n",
    "fig.add_subplot(1, 2, 2)\n",
    "  \n",
    "# showing contrast image\n",
    "plt.imshow(contrast_image)\n",
    "plt.axis('off')\n",
    "plt.title(\"CONTRAST AND HORIZONTALLY FLIPPED IMAGE\")"
   ]
  },
  {
   "cell_type": "markdown",
   "id": "86dcebf2",
   "metadata": {},
   "source": [
    "# QUESTION 3"
   ]
  },
  {
   "cell_type": "markdown",
   "id": "dccf6d38",
   "metadata": {},
   "source": [
    "# creating augmented data Set"
   ]
  },
  {
   "cell_type": "code",
   "execution_count": null,
   "id": "0276ea3b",
   "metadata": {},
   "outputs": [],
   "source": [
    "#creating augmented data set \n",
    "train_aug_data=[]\n",
    "for i  in range(len(train_data)):\n",
    "    train_aug_data.append(image_formation(train_data[i]).transpose(2,0,1))\n",
    "    \n",
    "#randomly selecting the tranformatio to be performed on the image\n",
    "for i in range(len(train_data)):\n",
    "    #randomly selecting the tranformation to be performed on the image\n",
    "    temp=random.randint(0,4)\n",
    "    if(temp==0):\n",
    "        train_aug_data.append(image_enhancement(train_data[i]).transpose(2,0,1))\n",
    "    elif(temp==1):\n",
    "        train_aug_data.append(image_posterization(train_data[i]).transpose(2,0,1))\n",
    "    elif(temp==2):\n",
    "        train_aug_data.append(image_contrast_horizontal_flip(train_data[i]).transpose(2,0,1))\n",
    "    else:\n",
    "        train_aug_data.append(image_rotate(train_data[i]).transpose(2,0,1))\n",
    "        \n",
    "    "
   ]
  },
  {
   "cell_type": "code",
   "execution_count": null,
   "id": "b08c22ab",
   "metadata": {},
   "outputs": [],
   "source": [
    "#creating np array\n",
    "train_aug_data = np.array(train_aug_data)"
   ]
  },
  {
   "cell_type": "code",
   "execution_count": null,
   "id": "5acc856a",
   "metadata": {},
   "outputs": [],
   "source": [
    "#making augmented training data lables\n",
    "train_aug_labels = train_data_labels\n",
    "\n",
    "for i in range(len(train_data_labels)):\n",
    "    train_aug_labels.append(train_data_labels[i])\n",
    "    "
   ]
  },
  {
   "cell_type": "code",
   "execution_count": null,
   "id": "0563165f",
   "metadata": {},
   "outputs": [],
   "source": [
    "#making augmented test data  \n",
    "test_aug_data=[]\n",
    "for i  in range(len(test_data)):\n",
    "    test_aug_data.append(image_formation(test_data[i]).transpose(2,0,1))\n",
    "    \n",
    "for i in range(len(test_data)):\n",
    "    temp=random.randint(0,4)\n",
    "    if(temp==0):\n",
    "        test_aug_data.append(image_enhancement(test_data[i]).transpose(2,0,1))\n",
    "    elif(temp==1):\n",
    "        test_aug_data.append(image_posterization(test_data[i]).transpose(2,0,1))\n",
    "    elif(temp==2):\n",
    "        test_aug_data.append(image_contrast_horizontal_flip(test_data[i]).transpose(2,0,1))\n",
    "    else:\n",
    "        test_aug_data.append(image_rotate(test_data[i]).transpose(2,0,1))"
   ]
  },
  {
   "cell_type": "code",
   "execution_count": null,
   "id": "ebdaa832",
   "metadata": {},
   "outputs": [],
   "source": [
    "#creating test data labels\n",
    "test_aug_labels = test_data_labels\n",
    "\n",
    "for i in range(len(test_data_labels)):\n",
    "    test_aug_labels.append(test_data_labels[i])"
   ]
  },
  {
   "cell_type": "code",
   "execution_count": null,
   "id": "bf7774ae",
   "metadata": {},
   "outputs": [],
   "source": [
    "test_aug_data = np.array(test_aug_data)"
   ]
  },
  {
   "cell_type": "markdown",
   "id": "8ec3744a",
   "metadata": {},
   "source": [
    "## create pickle file for augmented data set"
   ]
  },
  {
   "cell_type": "code",
   "execution_count": null,
   "id": "0b739659",
   "metadata": {},
   "outputs": [],
   "source": [
    "#making pickle file for training augmented data\n",
    "with open('train_aug_data.pkl', 'wb') as file:\n",
    "      \n",
    "    \n",
    "    pickle.dump(train_aug_data, file)\n",
    "\n",
    "#making pickle file for testing augmented data\n",
    "    \n",
    "with open('test_aug_data.pkl', 'wb') as file:\n",
    "      \n",
    "    \n",
    "    pickle.dump(test_aug_data, file)"
   ]
  },
  {
   "cell_type": "code",
   "execution_count": null,
   "id": "592ad4d8",
   "metadata": {},
   "outputs": [],
   "source": [
    "#making pickle file for training augmented data labels\n",
    "with open('train_aug_labels.pkl', 'wb') as file:\n",
    "      \n",
    "    \n",
    "    pickle.dump(train_aug_labels, file)\n",
    "\n",
    "#making pickle file for test augmented data\n",
    "    \n",
    "with open('test_aug_labels.pkl', 'wb') as file:\n",
    "      \n",
    "    \n",
    "    pickle.dump(test_aug_labels, file)"
   ]
  },
  {
   "cell_type": "code",
   "execution_count": 49,
   "id": "62ce7ae0",
   "metadata": {},
   "outputs": [],
   "source": [
    "# reading the test augmented data file \n",
    "with open('test_aug_data.pkl', 'rb') as file:\n",
    "\t\n",
    "\t# Call load method to deserialze\n",
    "\ttest_aug_data = pickle.load(file)\n",
    "\n",
    "# reading the train augmented data file\n",
    "    \n",
    "with open('train_aug_data.pkl', 'rb') as file:\n",
    "\t\n",
    "\t# Call load method to deserialze\n",
    "\ttrain_aug_data = pickle.load(file)"
   ]
  },
  {
   "cell_type": "code",
   "execution_count": 50,
   "id": "0171a2c9",
   "metadata": {},
   "outputs": [
    {
     "data": {
      "text/plain": [
       "(100000, 3, 32, 32)"
      ]
     },
     "execution_count": 50,
     "metadata": {},
     "output_type": "execute_result"
    }
   ],
   "source": [
    "train_aug_data.shape"
   ]
  },
  {
   "cell_type": "code",
   "execution_count": 51,
   "id": "ab76dac9",
   "metadata": {},
   "outputs": [
    {
     "data": {
      "text/plain": [
       "(20000, 3, 32, 32)"
      ]
     },
     "execution_count": 51,
     "metadata": {},
     "output_type": "execute_result"
    }
   ],
   "source": [
    "test_aug_data.shape"
   ]
  },
  {
   "cell_type": "code",
   "execution_count": 52,
   "id": "a8a729f3",
   "metadata": {},
   "outputs": [],
   "source": [
    "# reading the test augmented data labels\n",
    "with open('test_aug_labels.pkl', 'rb') as file:\n",
    "\t\n",
    "\t# Call load method to deserialze\n",
    "\ttest_aug_labels = pickle.load(file)\n",
    "\n",
    "# reading the train augmented data file\n",
    "with open('train_aug_labels.pkl', 'rb') as file:\n",
    "\t\n",
    "\t# Call load method to deserialze\n",
    "\ttrain_aug_labels = pickle.load(file)"
   ]
  },
  {
   "cell_type": "code",
   "execution_count": 53,
   "id": "c83f4914",
   "metadata": {},
   "outputs": [
    {
     "data": {
      "text/plain": [
       "100000"
      ]
     },
     "execution_count": 53,
     "metadata": {},
     "output_type": "execute_result"
    }
   ],
   "source": [
    "len(train_aug_labels)"
   ]
  },
  {
   "cell_type": "code",
   "execution_count": 54,
   "id": "2c67856e",
   "metadata": {},
   "outputs": [
    {
     "data": {
      "text/plain": [
       "20000"
      ]
     },
     "execution_count": 54,
     "metadata": {},
     "output_type": "execute_result"
    }
   ],
   "source": [
    "len(test_aug_labels)"
   ]
  },
  {
   "cell_type": "code",
   "execution_count": 55,
   "id": "2a6d457e",
   "metadata": {},
   "outputs": [],
   "source": [
    "# method to convert lables into one hot vector \n",
    "def one_hot_encode(data, n_classes):\n",
    "    \n",
    "    encoded_labels = np.zeros((len(data), n_classes))\n",
    "    for i, x in enumerate(data):\n",
    "        encoded_labels[i][x] = 1\n",
    "    \n",
    "    return encoded_labels"
   ]
  },
  {
   "cell_type": "code",
   "execution_count": 56,
   "id": "7326db8b",
   "metadata": {},
   "outputs": [],
   "source": [
    "train_aug_encoded_labels = one_hot_encode(np.array(train_aug_labels),10)"
   ]
  },
  {
   "cell_type": "code",
   "execution_count": 57,
   "id": "cdf15946",
   "metadata": {},
   "outputs": [],
   "source": [
    "test_aug_encoded_labels = one_hot_encode(np.array(test_aug_labels),10)"
   ]
  },
  {
   "cell_type": "code",
   "execution_count": 58,
   "id": "3589a5cb",
   "metadata": {},
   "outputs": [],
   "source": [
    "# making the train augmented encoded data file\n",
    "with open('train_aug_encoded_labels.pkl', 'wb') as file:\n",
    "      \n",
    "    \n",
    "    pickle.dump(train_aug_encoded_labels, file)\n",
    "    \n",
    "# making the test augmented encoded data file\n",
    "    \n",
    "with open('test_aug_encoded_labels.pkl', 'wb') as file:\n",
    "      \n",
    "    \n",
    "    pickle.dump(test_aug_encoded_labels, file)"
   ]
  },
  {
   "cell_type": "code",
   "execution_count": 59,
   "id": "0c140af5",
   "metadata": {},
   "outputs": [],
   "source": [
    "# reading the train augmented encoded data file\n",
    "\n",
    "with open('train_aug_encoded_labels.pkl', 'rb') as file:\n",
    "\t\n",
    "\t# Call load method to deserialze\n",
    "\ttrain_aug_encoded_labels = pickle.load(file)\n",
    "\n",
    "# reading the train augmented encoded data file\n",
    "with open('test_aug_encoded_labels.pkl', 'rb') as file:\n",
    "\t\n",
    "\t# Call load method to deserialze\n",
    "\ttest_aug_encoded_labels = pickle.load(file)"
   ]
  },
  {
   "cell_type": "code",
   "execution_count": 60,
   "id": "e2029d29",
   "metadata": {},
   "outputs": [
    {
     "data": {
      "text/plain": [
       "(100000, 10)"
      ]
     },
     "execution_count": 60,
     "metadata": {},
     "output_type": "execute_result"
    }
   ],
   "source": [
    "train_aug_encoded_labels.shape"
   ]
  },
  {
   "cell_type": "code",
   "execution_count": 61,
   "id": "c15ac58c",
   "metadata": {},
   "outputs": [
    {
     "data": {
      "text/plain": [
       "(20000, 10)"
      ]
     },
     "execution_count": 61,
     "metadata": {},
     "output_type": "execute_result"
    }
   ],
   "source": [
    "test_aug_encoded_labels.shape"
   ]
  },
  {
   "cell_type": "markdown",
   "id": "5d32dfd5",
   "metadata": {},
   "source": [
    "# QUESTION 4: FEATURE EXTRACTION"
   ]
  },
  {
   "cell_type": "code",
   "execution_count": 62,
   "id": "3d4e50a3",
   "metadata": {},
   "outputs": [],
   "source": [
    "#importing feature extractor file \n",
    "import feature_extractor as fe"
   ]
  },
  {
   "cell_type": "code",
   "execution_count": 63,
   "id": "884c707f",
   "metadata": {
    "scrolled": true
   },
   "outputs": [
    {
     "name": "stderr",
     "output_type": "stream",
     "text": [
      "C:\\Users\\Admin\\anaconda3\\lib\\site-packages\\torchvision\\models\\_utils.py:208: UserWarning: The parameter 'pretrained' is deprecated since 0.13 and may be removed in the future, please use 'weights' instead.\n",
      "  warnings.warn(\n",
      "C:\\Users\\Admin\\anaconda3\\lib\\site-packages\\torchvision\\models\\_utils.py:223: UserWarning: Arguments other than a weight enum or `None` for 'weights' are deprecated since 0.13 and may be removed in the future. The current behavior is equivalent to passing `weights=ResNet18_Weights.IMAGENET1K_V1`. You can also use `weights=ResNet18_Weights.DEFAULT` to get the most up-to-date weights.\n",
      "  warnings.warn(msg)\n"
     ]
    }
   ],
   "source": [
    "#creating BBResNet18 object  \n",
    "obj = fe.BBResNet18()"
   ]
  },
  {
   "cell_type": "code",
   "execution_count": 64,
   "id": "42a95729",
   "metadata": {},
   "outputs": [],
   "source": [
    "# method to create 1 d vector form  image\n",
    "def get_features(data):\n",
    "    \n",
    "    n_batch=len(data)//100\n",
    "    \n",
    "    for i in range(n_batch):\n",
    "        data_batch=data[i*100:(i+1)*100]\n",
    "        temp=np.array([np.transpose(cv2.resize(np.transpose(img, (1, 2, 0)), (224, 224)), (2, 0, 1)) for img in data_batch])\n",
    "        temp= np.float32(temp)\n",
    "        #normalizing the data \n",
    "        temp/=255\n",
    "        if i == 0:\n",
    "            feature_vector_list = obj.feature_extraction(temp)\n",
    "        else:\n",
    "            feature_vector_list=np.append(feature_vector_list,obj.feature_extraction(temp),axis=0)\n",
    "    return feature_vector_list"
   ]
  },
  {
   "cell_type": "code",
   "execution_count": null,
   "id": "deef4948",
   "metadata": {},
   "outputs": [],
   "source": [
    "train_feature_vec_list = get_features(train_aug_data)\n",
    "test_feature_vec_list = get_features(test_aug_data)\n"
   ]
  },
  {
   "cell_type": "code",
   "execution_count": null,
   "id": "6d090fd2",
   "metadata": {},
   "outputs": [],
   "source": [
    "# make pickle file of train \n",
    "import pickle\n",
    " \n",
    "\n",
    "with open('train_feature_vector.pkl', 'wb') as file:\n",
    "      \n",
    "    \n",
    "    pickle.dump(train_feature_vec_list, file)"
   ]
  },
  {
   "cell_type": "code",
   "execution_count": null,
   "id": "e314c379",
   "metadata": {},
   "outputs": [],
   "source": [
    "  # make pickle file of test feature vector\n",
    "with open('test_feature_vector.pkl', 'wb') as file:\n",
    "      \n",
    "    \n",
    "    pickle.dump(test_feature_vec_list, file)"
   ]
  },
  {
   "cell_type": "code",
   "execution_count": 65,
   "id": "234a4f05",
   "metadata": {},
   "outputs": [],
   "source": [
    "# read pickle file of train feature vector\n",
    "with open('train_feature_vector.pkl', 'rb') as file:\n",
    "    train_feature_vec_list = pickle.load(file)\n",
    "# read pickle file of test feature vector\n",
    "with open('test_feature_vector.pkl', 'rb') as file:\n",
    "    test_feature_vec_list = pickle.load(file)"
   ]
  },
  {
   "cell_type": "code",
   "execution_count": 66,
   "id": "a2f6f938",
   "metadata": {},
   "outputs": [
    {
     "data": {
      "text/plain": [
       "(100000, 512)"
      ]
     },
     "execution_count": 66,
     "metadata": {},
     "output_type": "execute_result"
    }
   ],
   "source": [
    "train_feature_vec_list.shape"
   ]
  },
  {
   "cell_type": "code",
   "execution_count": 67,
   "id": "fa11a086",
   "metadata": {},
   "outputs": [
    {
     "data": {
      "text/plain": [
       "(20000, 512)"
      ]
     },
     "execution_count": 67,
     "metadata": {},
     "output_type": "execute_result"
    }
   ],
   "source": [
    "test_feature_vec_list.shape"
   ]
  },
  {
   "cell_type": "markdown",
   "id": "83a48529",
   "metadata": {},
   "source": [
    "# QUESTION 5 AND 6 : MLP"
   ]
  },
  {
   "cell_type": "code",
   "execution_count": 2,
   "id": "83330a04",
   "metadata": {},
   "outputs": [],
   "source": [
    "with open('train_aug_encoded_labels.pkl', 'rb') as file:\n",
    "    train_aug_encoded_labels = pickle.load(file)\n",
    "with open('test_aug_encoded_labels.pkl', 'rb') as file:\n",
    "# Call load method to deserialze\n",
    "    test_aug_encoded_labels = pickle.load(file)"
   ]
  },
  {
   "cell_type": "code",
   "execution_count": 3,
   "id": "6312b5e0",
   "metadata": {},
   "outputs": [],
   "source": [
    "with open('train_feature_vector.pkl', 'rb') as file:\n",
    "    train_feature_vec_list = pickle.load(file)\n",
    "with open('test_feature_vector.pkl', 'rb') as file:\n",
    "    test_feature_vec_list = pickle.load(file)"
   ]
  },
  {
   "cell_type": "code",
   "execution_count": 4,
   "id": "3d8d4d72",
   "metadata": {},
   "outputs": [],
   "source": [
    "# This class creates a deep neural network with two hidden layers, each containing 64 neurons, and applies the ReLU activation function to each hidden layer.\n",
    "# On the output layer, the softmax activation function is used.The loss is calculated using cross entropy\n",
    "\n",
    "\n",
    "class MultiLayerPerceptron():\n",
    "   \n",
    "    parameters = {}\n",
    "    gradients = {}\n",
    "    \n",
    "    # relu function activation function implementation\n",
    "    def relu(self,x):\n",
    "        return np.maximum(0, x)\n",
    "    \n",
    "    # softmax function activation function implementation\n",
    "    def softmax(self,x):\n",
    "            num=np.exp(x)\n",
    "            den=np.sum(np.exp(x), axis=1).reshape(len(x), 1)\n",
    "            res=num/den\n",
    "            return res\n",
    "\n",
    "    #cross entropy loss function implementation \n",
    "    def cross_entropy_loss(self,pred, actual):\n",
    "            return -np.sum(actual*np.log(pred))/len(pred)\n",
    "\n",
    "    # this function gives gradient of relu function \n",
    "    def relu_d(self,x):\n",
    "            return (x > 0) * 1\n",
    "\n",
    "\n",
    "\n",
    "    \n",
    "    def __init__(self, train_data, train_labels, no_of_neurons=64):\n",
    "        \n",
    "        \n",
    "        self.train_data = train_data\n",
    "        self.train_labels = train_labels\n",
    "        self.no_of_samples =len(train_data)\n",
    "        self.no_of_features =  512\n",
    "        self.no_of_classes = train_labels.shape[1]\n",
    "        self.no_of_neurons = no_of_neurons\n",
    "        \n",
    "        MultiLayerPerceptron.parameters = { }\n",
    "        \n",
    "        # Initializing weights and biases for the network\n",
    "        norm=1e3\n",
    "        MultiLayerPerceptron.parameters['w_1'] = np.random.rand(self.no_of_features, self.no_of_neurons)/norm #to handle of vanishing gardient proble\n",
    "        MultiLayerPerceptron.parameters['w_2'] = np.random.rand(self.no_of_neurons, self.no_of_neurons)/norm\n",
    "        MultiLayerPerceptron.parameters['w_3'] = np.random.rand(self.no_of_neurons, self.no_of_classes)/norm\n",
    "        MultiLayerPerceptron.parameters['b_1'] = np.zeros((self.no_of_neurons))\n",
    "        MultiLayerPerceptron.parameters['b_2'] = np.zeros((self.no_of_neurons))\n",
    "        MultiLayerPerceptron.parameters['b_3'] = np.zeros((self.no_of_classes))\n",
    "        \n",
    "        \n",
    "    \n",
    "    # implementing feed forward newtork \n",
    "    def feed_forwards(self, x):\n",
    "        \n",
    "        self.z_1 = np.matmul(x, MultiLayerPerceptron.parameters['w_1']) + MultiLayerPerceptron.parameters['b_1']\n",
    "        self.a_1 = self.relu(self.z_1)\n",
    "                \n",
    "        self.z_2 = np.matmul(self.a_1, MultiLayerPerceptron.parameters['w_2']) + MultiLayerPerceptron.parameters['b_2']\n",
    "        self.a_2 = self.relu(self.z_2)\n",
    "\n",
    "        self.z_3 = np.matmul(self.a_2, MultiLayerPerceptron.parameters['w_3']) + MultiLayerPerceptron.parameters['b_3']\n",
    "        self.softmax_z =self.softmax(self.z_3)\n",
    "    \n",
    "        \n",
    "    # function to check accuracy\n",
    "    def accuracy(self, pred, truth):\n",
    "        acc=(np.argmax(truth, axis=1) == np.argmax(pred, axis=1)).mean()\n",
    "        return acc\n",
    "    \n",
    "    #implementing back propogation \n",
    "    def back_prop(self, x, y):\n",
    "        \n",
    "        \n",
    "        # Calculating gradients for W3(output layer)\n",
    "        dL_dA3 = self.softmax_z - y \n",
    "        dA3_dW3 = self.a_2  \n",
    "        dL_dW3 = np.dot(dA3_dW3.T, dL_dA3)  \n",
    "        MultiLayerPerceptron.gradients['w_3'] = dL_dW3\n",
    "        \n",
    "        # Calculating gradients for B3(output layer)\n",
    "        dL_dB3 = np.sum(dL_dA3, axis=0)\n",
    "        MultiLayerPerceptron.gradients['b_3'] = dL_dB3\n",
    "\n",
    "         # Calculating gradients for W2(hidden layer 2)\n",
    "        dA2_dW2 = self.a_1  \n",
    "        dL_dZ2 = np.dot(dL_dA3, MultiLayerPerceptron.parameters['w_3'].T)  \n",
    "        dZ2_dA2 = self.relu_d(self.a_2)  \n",
    "        dL_dA2 = np.multiply(dL_dZ2, dZ2_dA2)  \n",
    "        dL_dW2 = np.dot(dA2_dW2.T, dL_dA2)  \n",
    "        MultiLayerPerceptron.gradients['w_2'] = dL_dW2\n",
    "        \n",
    "        # Calculating gradients for B2(hidden layer 2)\n",
    "        dL_dB2 = np.sum(dL_dA2, axis=0)\n",
    "        MultiLayerPerceptron.gradients['b_2'] = dL_dB2\n",
    "\n",
    "        \n",
    "        \n",
    "        # Calculating gradients for W1(hidden layer 1)\n",
    "        dA1_dW1 = x  \n",
    "        dL_dZ1 = np.dot(dL_dA2, MultiLayerPerceptron.parameters['w_2'].T)  \n",
    "        dZ1_dA1 = self.relu_d(self.a_1)  \n",
    "        dL_dA1 = np.multiply(dL_dZ1, dZ1_dA1)  \n",
    "        dL_dW1 = np.dot(dA1_dW1.T, dL_dA1)  \n",
    "        MultiLayerPerceptron.gradients['w_1'] = dL_dW1\n",
    "        \n",
    "        \n",
    "        # Calculating gradients for B1(hidden layer 1)\n",
    "        dL_dB1 = np.sum(dL_dA1, axis=0)\n",
    "        MultiLayerPerceptron.gradients['b_1'] = dL_dB1\n",
    "        \n",
    "        \n",
    "    def train(self, epoch=50, batch_size=32, learning_rate=0.01):\n",
    "        \n",
    "        # Finding the number of batches\n",
    "        no_of_batches = self.no_of_samples//batch_size\n",
    "        \n",
    "        for i in range(epoch):\n",
    "            \n",
    "            batch_loss = 0\n",
    "            batch_accuracy = 0\n",
    "            for j in range(no_of_batches):\n",
    "                # making batches of the training data  \n",
    "                start=j*batch_size\n",
    "                end=(j+1)*batch_size\n",
    "                Y_train = self.train_labels[start:end]\n",
    "                X_train = self.train_data[start:end]\n",
    "                \n",
    "                \n",
    "                # Running forward pass on a Batch of data\n",
    "                self.feed_forwards(X_train)\n",
    "                # Runnning backward pass on a Batch of data \n",
    "                self.back_prop(X_train, Y_train)\n",
    "                \n",
    "                # applying gradient descent, i.e. W_new = W_old - learning_rate * gradient_W to update the weights\n",
    "                MultiLayerPerceptron.parameters['w_1'] -= learning_rate * (MultiLayerPerceptron.gradients['w_1'] / batch_size)\n",
    "                MultiLayerPerceptron.parameters['w_2'] -= learning_rate * (MultiLayerPerceptron.gradients['w_2'] / batch_size)\n",
    "                MultiLayerPerceptron.parameters['w_3'] -= learning_rate * (MultiLayerPerceptron.gradients['w_3'] / batch_size)\n",
    "                MultiLayerPerceptron.parameters['b_1'] -= learning_rate * (MultiLayerPerceptron.gradients['b_1'] / batch_size)\n",
    "                MultiLayerPerceptron.parameters['b_2'] -= learning_rate * (MultiLayerPerceptron.gradients['b_2'] / batch_size)\n",
    "                MultiLayerPerceptron.parameters['b_3'] -= learning_rate * (MultiLayerPerceptron.gradients['b_3'] / batch_size)\n",
    "            \n",
    "                \n",
    "                batch_accuracy = self.accuracy(self.softmax_z, Y_train)*batch_size+batch_accuracy\n",
    "                batch_loss = self.cross_entropy_loss(self.softmax_z, Y_train)*batch_size+batch_loss\n",
    "                  \n",
    "\n",
    "            # Decay learning rate after every 10 epochs\n",
    "            if i+1 % 10 == 0:\n",
    "                if i+1 > 1:\n",
    "                    learning_rate = 0.8*learning_rate\n",
    "            \n",
    "            # Divide loss and accuracy by number of samples in the data\n",
    "            no_of_samples = no_of_batches*batch_size\n",
    "            loss = batch_loss/no_of_samples\n",
    "            acc = batch_accuracy/no_of_samples\n",
    "\n",
    "            \n",
    "            if i == 0 or (i+1)%10 == 0:\n",
    "                print(f'EPOCH NO: {i+1}: LOSS:  {loss:.4f}, ACCURACY : {acc*100:.4f}')\n",
    "    \n",
    "\n",
    "    def test(self, x, y):\n",
    "        \n",
    "        # Run forward pass on the data\n",
    "        self.feed_forwards(x)\n",
    "\n",
    "        # Calculate loss and accuracy\n",
    "        loss = self.cross_entropy_loss(self.softmax_z, y)\n",
    "        acc = self.accuracy(self.softmax_z, y)\n",
    "\n",
    "        print(f'LOSS : {loss:.4f} ACCURACY : {acc*100:.4f}')"
   ]
  },
  {
   "cell_type": "code",
   "execution_count": 14,
   "id": "1356ee58",
   "metadata": {},
   "outputs": [
    {
     "name": "stdout",
     "output_type": "stream",
     "text": [
      "**********UNAUGMENTED DATA TRAINING**********\n",
      "EPOCH NO: 1: LOSS:  2.3026, ACCURACY : 9.6374\n",
      "EPOCH NO: 10: LOSS:  2.3025, ACCURACY : 10.4347\n",
      "EPOCH NO: 20: LOSS:  1.8726, ACCURACY : 22.1114\n",
      "EPOCH NO: 30: LOSS:  1.7107, ACCURACY : 27.0613\n",
      "EPOCH NO: 40: LOSS:  1.5365, ACCURACY : 34.0865\n",
      "EPOCH NO: 50: LOSS:  1.2214, ACCURACY : 55.8373\n",
      "EPOCH NO: 60: LOSS:  0.9302, ACCURACY : 68.8061\n",
      "EPOCH NO: 70: LOSS:  0.7677, ACCURACY : 74.0405\n",
      "EPOCH NO: 80: LOSS:  0.6553, ACCURACY : 77.5361\n",
      "EPOCH NO: 90: LOSS:  0.6016, ACCURACY : 79.1727\n",
      "EPOCH NO: 100: LOSS:  0.5658, ACCURACY : 80.2664\n",
      "**********AUGMENTED DATA TRAINING**********\n",
      "EPOCH NO: 1: LOSS:  0.8355, ACCURACY : 70.9797\n",
      "EPOCH NO: 10: LOSS:  0.7276, ACCURACY : 74.3658\n",
      "EPOCH NO: 20: LOSS:  0.6869, ACCURACY : 75.7522\n",
      "EPOCH NO: 30: LOSS:  0.6571, ACCURACY : 76.7606\n",
      "EPOCH NO: 40: LOSS:  0.6328, ACCURACY : 77.6228\n",
      "EPOCH NO: 50: LOSS:  0.6117, ACCURACY : 78.3211\n",
      "EPOCH NO: 60: LOSS:  0.5928, ACCURACY : 79.0003\n",
      "EPOCH NO: 70: LOSS:  0.5761, ACCURACY : 79.5765\n",
      "EPOCH NO: 80: LOSS:  0.5609, ACCURACY : 80.1777\n",
      "EPOCH NO: 90: LOSS:  0.5468, ACCURACY : 80.7448\n",
      "EPOCH NO: 100: LOSS:  0.5347, ACCURACY : 81.2000\n"
     ]
    }
   ],
   "source": [
    "# Create an object for the augmented and unaugmented(original) training data\n",
    "augmented_data_object = MultiLayerPerceptron(train_feature_vec_list, train_aug_encoded_labels)\n",
    "unaugmented_data_object = MultiLayerPerceptron(train_feature_vec_list[:50000], train_aug_encoded_labels[:50000])\n",
    "#Train the model on unaugmented data and augmented data and save model parameters\n",
    "print('**********UNAUGMENTED DATA TRAINING**********')\n",
    "unaugmented_data_object.train(epoch=100, batch_size=128, learning_rate=0.01)\n",
    "print('**********AUGMENTED DATA TRAINING**********')\n",
    "augmented_data_object.train(epoch=100, batch_size=128, learning_rate=0.01)"
   ]
  },
  {
   "cell_type": "markdown",
   "id": "8a793d63",
   "metadata": {},
   "source": [
    "# QUESTION 7:Classification Algorithms"
   ]
  },
  {
   "cell_type": "code",
   "execution_count": 7,
   "id": "8f9a69d9",
   "metadata": {},
   "outputs": [],
   "source": [
    "with open('train_feature_vector.pkl', 'rb') as file:\n",
    "    train_feature_vec_list = pickle.load(file)\n",
    "with open('test_feature_vector.pkl', 'rb') as file:\n",
    "    test_feature_vec_list = pickle.load(file)"
   ]
  },
  {
   "cell_type": "code",
   "execution_count": 8,
   "id": "773c33c0",
   "metadata": {},
   "outputs": [],
   "source": [
    "with open('test_aug_labels.pkl', 'rb') as file:\n",
    "    test_aug_labels = pickle.load(file)\n",
    "with open('train_aug_labels.pkl', 'rb') as file:\n",
    "    train_aug_labels = pickle.load(file)"
   ]
  },
  {
   "cell_type": "code",
   "execution_count": 9,
   "id": "89c465de",
   "metadata": {},
   "outputs": [],
   "source": [
    "# Load training data and labels\n",
    "train_data = train_feature_vec_list \n",
    "train_labels = train_aug_labels \n",
    "# Load test data\n",
    "test_data = test_feature_vec_list  \n",
    "test_labels = test_aug_labels"
   ]
  },
  {
   "cell_type": "markdown",
   "id": "59e22d9e",
   "metadata": {},
   "source": [
    "# KNN"
   ]
  },
  {
   "cell_type": "code",
   "execution_count": 10,
   "id": "a37f722c",
   "metadata": {},
   "outputs": [
    {
     "name": "stdout",
     "output_type": "stream",
     "text": [
      "Accuracy on Augmented Data: 0.61505\n"
     ]
    }
   ],
   "source": [
    "# Knn for augmented data\n",
    "from sklearn.neighbors import KNeighborsClassifier\n",
    "from sklearn.metrics import accuracy_score\n",
    "\n",
    "classifier = KNeighborsClassifier()\n",
    "classifier.fit(train_data, train_labels)\n",
    "predictions = classifier.predict(test_data)\n",
    "\n",
    "accuracy = accuracy_score(test_labels, predictions)\n",
    "print('Accuracy on Augmented Data:', accuracy)"
   ]
  },
  {
   "cell_type": "code",
   "execution_count": 10,
   "id": "5739825a",
   "metadata": {},
   "outputs": [
    {
     "name": "stdout",
     "output_type": "stream",
     "text": [
      "Accuracy on Unaugmented Data: 0.6938\n"
     ]
    }
   ],
   "source": [
    "# Knn for unaugmented data\n",
    "classifier = KNeighborsClassifier()\n",
    "classifier.fit(train_data[:50000], train_labels[:50000])\n",
    "predictions = classifier.predict(test_data[:10000])\n",
    "\n",
    "accuracy = accuracy_score(test_labels[:10000], predictions)\n",
    "print('Accuracy on Unaugmented Data:', accuracy)"
   ]
  },
  {
   "cell_type": "markdown",
   "id": "962d756a",
   "metadata": {},
   "source": [
    "# LOGISTIC REGRESSION"
   ]
  },
  {
   "cell_type": "code",
   "execution_count": 11,
   "id": "3e2ceac7",
   "metadata": {},
   "outputs": [
    {
     "name": "stdout",
     "output_type": "stream",
     "text": [
      "Accuracy on Augmented data: 0.7152\n"
     ]
    }
   ],
   "source": [
    "# LOGISTIC REGRESSION for augmented data\n",
    "from sklearn.linear_model import LogisticRegression\n",
    "from sklearn.metrics import accuracy_score\n",
    "\n",
    "classifier = LogisticRegression(random_state=42,multi_class='ovr',max_iter =1000)\n",
    "classifier.fit(train_data,train_labels)\n",
    "\n",
    "predictions = classifier.predict(test_data)\n",
    "\n",
    "# Evaluate the accuracy of the predictions\n",
    "accuracy = accuracy_score(test_labels, predictions)\n",
    "print('Accuracy on Augmented data:', accuracy)"
   ]
  },
  {
   "cell_type": "code",
   "execution_count": 13,
   "id": "acdc3649",
   "metadata": {},
   "outputs": [
    {
     "name": "stdout",
     "output_type": "stream",
     "text": [
      "Accuracy on Unaugmented data: 0.7865\n"
     ]
    }
   ],
   "source": [
    "# LOGISTIC REGRESSION for unaugmented data\n",
    "classifier = LogisticRegression(random_state=42,multi_class='ovr',max_iter =1000)\n",
    "classifier.fit(train_data[:50000],train_labels[:50000])\n",
    "\n",
    "predictions = classifier.predict(test_data[:10000])\n",
    "\n",
    "# Evaluate the accuracy of the predictions\n",
    "accuracy = accuracy_score(test_labels[:10000], predictions)\n",
    "print('Accuracy on Unaugmented data:', accuracy)"
   ]
  },
  {
   "cell_type": "markdown",
   "id": "26f65bd9",
   "metadata": {},
   "source": [
    "# DECISION TREE"
   ]
  },
  {
   "cell_type": "code",
   "execution_count": 12,
   "id": "3dcbcd80",
   "metadata": {},
   "outputs": [
    {
     "name": "stdout",
     "output_type": "stream",
     "text": [
      "Accuracy on Augmented data: 0.4309\n"
     ]
    }
   ],
   "source": [
    "# Decison tree for augmented data\n",
    "\n",
    "from sklearn.tree import DecisionTreeClassifier\n",
    "from sklearn.metrics import accuracy_score\n",
    "\n",
    "classifier = DecisionTreeClassifier(max_depth =12, random_state = 42)\n",
    "classifier.fit(train_data, train_labels)\n",
    "\n",
    "predictions = classifier.predict(test_data)\n",
    "\n",
    "# Evaluate the accuracy of the predictions\n",
    "accuracy = accuracy_score(test_labels, predictions)\n",
    "print('Accuracy on Augmented data:', accuracy)"
   ]
  },
  {
   "cell_type": "code",
   "execution_count": 16,
   "id": "c8f14608",
   "metadata": {},
   "outputs": [
    {
     "name": "stdout",
     "output_type": "stream",
     "text": [
      "Accuracy on Unugmented data: 0.4834\n"
     ]
    }
   ],
   "source": [
    "# Decison tree for unaugmented data\n",
    "classifier = DecisionTreeClassifier(max_depth =12, random_state = 42)\n",
    "classifier.fit(train_data[:50000], train_labels[:50000])\n",
    "\n",
    "predictions = classifier.predict(test_data[:10000])\n",
    "\n",
    "# Evaluate the accuracy of the predictions\n",
    "accuracy = accuracy_score(test_labels[:10000], predictions)\n",
    "print('Accuracy on Unugmented data:', accuracy)"
   ]
  },
  {
   "cell_type": "markdown",
   "id": "b7d5c25a",
   "metadata": {},
   "source": [
    "# SVM"
   ]
  },
  {
   "cell_type": "code",
   "execution_count": 13,
   "id": "1dc44f79",
   "metadata": {},
   "outputs": [
    {
     "name": "stdout",
     "output_type": "stream",
     "text": [
      "Accuracy on Augmented data: 0.69165\n"
     ]
    },
    {
     "name": "stderr",
     "output_type": "stream",
     "text": [
      "C:\\Users\\Admin\\anaconda3\\lib\\site-packages\\sklearn\\svm\\_base.py:1206: ConvergenceWarning: Liblinear failed to converge, increase the number of iterations.\n",
      "  warnings.warn(\n"
     ]
    }
   ],
   "source": [
    "# SVM for augmented data\n",
    "from sklearn import svm\n",
    "from sklearn.metrics import accuracy_score\n",
    "\n",
    "\n",
    "# Train the SVM on the training data\n",
    "clf = svm.LinearSVC(max_iter =1000) \n",
    "clf.fit(train_data, train_labels)\n",
    "\n",
    "# Predict on the test data\n",
    "predictions = clf.predict(test_data)\n",
    "\n",
    "# Evaluate the accuracy of the predictions\n",
    "accuracy = accuracy_score(test_labels, predictions)\n",
    "print('Accuracy on Augmented data:', accuracy)"
   ]
  },
  {
   "cell_type": "code",
   "execution_count": 6,
   "id": "c8afd08f",
   "metadata": {},
   "outputs": [
    {
     "name": "stdout",
     "output_type": "stream",
     "text": [
      "Accuracy on Unaugmented data: 0.7771\n"
     ]
    },
    {
     "name": "stderr",
     "output_type": "stream",
     "text": [
      "C:\\Users\\Admin\\anaconda3\\lib\\site-packages\\sklearn\\svm\\_base.py:1206: ConvergenceWarning: Liblinear failed to converge, increase the number of iterations.\n",
      "  warnings.warn(\n"
     ]
    }
   ],
   "source": [
    "# Decison tree for unaugmented data\n",
    "clf = svm.LinearSVC() \n",
    "clf.fit(train_data[:50000], train_labels[:50000])\n",
    "\n",
    "# Predict on the test data\n",
    "predictions = clf.predict(test_data[:10000])\n",
    "\n",
    "# Evaluate the accuracy of the predictions\n",
    "accuracy = accuracy_score(test_labels[:10000], predictions)\n",
    "print('Accuracy on Unaugmented data:', accuracy)"
   ]
  },
  {
   "cell_type": "markdown",
   "id": "48dcf8ed",
   "metadata": {},
   "source": [
    "# QUESTION 8"
   ]
  },
  {
   "cell_type": "code",
   "execution_count": 15,
   "id": "c3233c05",
   "metadata": {},
   "outputs": [
    {
     "name": "stdout",
     "output_type": "stream",
     "text": [
      "*********UNAUGMENTED DATA TESTING**********\n",
      "LOSS : 0.6687 ACCURACY : 78.6700\n",
      "*********AUGMENTED DATA TESTING**********\n",
      "LOSS : 0.8375 ACCURACY : 72.6950\n"
     ]
    }
   ],
   "source": [
    "# MLP accuracy for unaugmented and augmented data \n",
    "\n",
    "print('*********UNAUGMENTED DATA TESTING**********')\n",
    "unaugmented_data_object.test(test_feature_vec_list[:10000],test_aug_encoded_labels[:10000])\n",
    "print('*********AUGMENTED DATA TESTING**********')\n",
    "augmented_data_object.test(test_feature_vec_list,test_aug_encoded_labels)"
   ]
  },
  {
   "cell_type": "code",
   "execution_count": 16,
   "id": "12f74251",
   "metadata": {},
   "outputs": [
    {
     "data": {
      "image/png": "[encoded data removed]",
      "text/plain": [
       "<Figure size 432x288 with 1 Axes>"
      ]
     },
     "metadata": {
      "needs_background": "light"
     },
     "output_type": "display_data"
    },
    {
     "data": {
      "text/plain": [
       "<Figure size 72x288 with 0 Axes>"
      ]
     },
     "metadata": {},
     "output_type": "display_data"
    }
   ],
   "source": [
    "# comaparing all the classifiers and plotting its graph\n",
    "import numpy as np\n",
    "import matplotlib.pyplot as plt\n",
    "\n",
    "X = ['SVM','KNN','Logistic Regression','DT','MLP']\n",
    "unaugmented_Data = [0.7771,0.6938,0.7865,0.4834,0.7867]\n",
    "augmented_Data = [0.69165,0.6805,0.7152,0.4309,0.72695]\n",
    "\n",
    "X_axis = np.arange(len(X))\n",
    "\n",
    "plt.bar(X_axis - 0.2,unaugmented_Data , 0.4, label = 'Unaugmented Data')\n",
    "plt.bar(X_axis + 0.2, augmented_Data, 0.4, label = 'Augmented Data')\n",
    "\n",
    "plt.xticks(X_axis, X)\n",
    "plt.ylim(0, 1)\n",
    "plt.xlabel(\"Classifiers\")\n",
    "plt.ylabel(\"Accuracy\")\n",
    "plt.title(\" Comparison of the performance of the MLP model and ML classifiers\")\n",
    "plt.legend()\n",
    "f = plt.figure()\n",
    "f.set_figwidth(1)\n",
    "plt.show()\n",
    "\n",
    "\n",
    "\n"
   ]
  },
  {
   "cell_type": "code",
   "execution_count": null,
   "id": "b21638b0",
   "metadata": {},
   "outputs": [],
   "source": []
  }
 ],
 "metadata": {
  "kernelspec": {
   "display_name": "Python 3 (ipykernel)",
   "language": "python",
   "name": "python3"
  },
  "language_info": {
   "codemirror_mode": {
    "name": "ipython",
    "version": 3
   },
   "file_extension": ".py",
   "mimetype": "text/x-python",
   "name": "python",
   "nbconvert_exporter": "python",
   "pygments_lexer": "ipython3",
   "version": "3.9.12"
  }
 },
 "nbformat": 4,
 "nbformat_minor": 5
}
